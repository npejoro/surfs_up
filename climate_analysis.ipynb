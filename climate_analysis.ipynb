{
 "cells": [
  {
   "cell_type": "code",
   "execution_count": 1,
   "metadata": {},
   "outputs": [],
   "source": [
    "#dependencies\n",
    "import sqlalchemy\n",
    "from sqlalchemy.ext.automap import automap_base\n",
    "from sqlalchemy.orm import Session\n",
    "from sqlalchemy import create_engine\n",
    "import pandas as pd\n",
    "import numpy as np\n",
    "import matplotlib.pyplot as plt\n",
    "import seaborn"
   ]
  },
  {
   "cell_type": "code",
   "execution_count": 2,
   "metadata": {},
   "outputs": [],
   "source": [
    "engine = create_engine(\"sqlite:///hawaii.sqlite\")"
   ]
  },
  {
   "cell_type": "code",
   "execution_count": 3,
   "metadata": {},
   "outputs": [
    {
     "data": {
      "text/plain": [
       "['measurements', 'stations']"
      ]
     },
     "execution_count": 3,
     "metadata": {},
     "output_type": "execute_result"
    }
   ],
   "source": [
    "Base = automap_base()\n",
    "Base.prepare(engine, reflect=True)\n",
    "Base.classes.keys()"
   ]
  },
  {
   "cell_type": "code",
   "execution_count": 4,
   "metadata": {},
   "outputs": [],
   "source": [
    "Measurements = Base.classes.measurements\n",
    "Stations = Base.classes.stations"
   ]
  },
  {
   "cell_type": "code",
   "execution_count": 5,
   "metadata": {},
   "outputs": [],
   "source": [
    "session = Session(engine)"
   ]
  },
  {
   "cell_type": "code",
   "execution_count": 6,
   "metadata": {},
   "outputs": [
    {
     "data": {
      "text/plain": [
       "{'_sa_instance_state': <sqlalchemy.orm.state.InstanceState at 0x28d51993160>,\n",
       " 'date': datetime.date(2010, 1, 1),\n",
       " 'meas_id': 1,\n",
       " 'prcp': 0.08,\n",
       " 'station': 'USC00519397',\n",
       " 'tobs': 65.0}"
      ]
     },
     "execution_count": 6,
     "metadata": {},
     "output_type": "execute_result"
    }
   ],
   "source": [
    "precip_data = session.query(Measurements).first()\n",
    "precip_data.__dict__"
   ]
  },
  {
   "cell_type": "code",
   "execution_count": 7,
   "metadata": {},
   "outputs": [
    {
     "data": {
      "text/plain": [
       "'2016-08-23'"
      ]
     },
     "execution_count": 7,
     "metadata": {},
     "output_type": "execute_result"
    }
   ],
   "source": [
    "#dynamically creates dates from most recent date to a year before\n",
    "from datetime import datetime\n",
    "most_current = session.query(Measurements.date).order_by(Measurements.date.desc()).first()\n",
    "last_date = most_current[0]\n",
    "year_before = last_date.replace(year = (last_date.year - 1))\n",
    "year_before = year_before.strftime(\"%Y-%m-%d\")\n",
    "year_before"
   ]
  },
  {
   "cell_type": "code",
   "execution_count": 8,
   "metadata": {},
   "outputs": [],
   "source": [
    "#query for precipitation data based on date range from most recent to a year before\n",
    "twelve_months = session.query(Measurements.date, Measurements.prcp).filter(Measurements.date > year_before)\n",
    "#create data frame from sql query\n",
    "twelve_months_prcp = pd.read_sql_query(twelve_months.statement, engine, index_col = 'date')"
   ]
  },
  {
   "cell_type": "code",
   "execution_count": 9,
   "metadata": {},
   "outputs": [
    {
     "data": {
      "text/html": [
       "<div>\n",
       "<style scoped>\n",
       "    .dataframe tbody tr th:only-of-type {\n",
       "        vertical-align: middle;\n",
       "    }\n",
       "\n",
       "    .dataframe tbody tr th {\n",
       "        vertical-align: top;\n",
       "    }\n",
       "\n",
       "    .dataframe thead th {\n",
       "        text-align: right;\n",
       "    }\n",
       "</style>\n",
       "<table border=\"1\" class=\"dataframe\">\n",
       "  <thead>\n",
       "    <tr style=\"text-align: right;\">\n",
       "      <th></th>\n",
       "      <th>prcp</th>\n",
       "    </tr>\n",
       "    <tr>\n",
       "      <th>date</th>\n",
       "      <th></th>\n",
       "    </tr>\n",
       "  </thead>\n",
       "  <tbody>\n",
       "    <tr>\n",
       "      <th>2016-08-24</th>\n",
       "      <td>0.08</td>\n",
       "    </tr>\n",
       "    <tr>\n",
       "      <th>2016-08-25</th>\n",
       "      <td>0.08</td>\n",
       "    </tr>\n",
       "    <tr>\n",
       "      <th>2016-08-26</th>\n",
       "      <td>0.00</td>\n",
       "    </tr>\n",
       "    <tr>\n",
       "      <th>2016-08-27</th>\n",
       "      <td>0.00</td>\n",
       "    </tr>\n",
       "    <tr>\n",
       "      <th>2016-08-28</th>\n",
       "      <td>0.01</td>\n",
       "    </tr>\n",
       "  </tbody>\n",
       "</table>\n",
       "</div>"
      ],
      "text/plain": [
       "            prcp\n",
       "date            \n",
       "2016-08-24  0.08\n",
       "2016-08-25  0.08\n",
       "2016-08-26  0.00\n",
       "2016-08-27  0.00\n",
       "2016-08-28  0.01"
      ]
     },
     "execution_count": 9,
     "metadata": {},
     "output_type": "execute_result"
    }
   ],
   "source": [
    "#inspect dataframe\n",
    "twelve_months_prcp.head()"
   ]
  },
  {
   "cell_type": "code",
   "execution_count": 10,
   "metadata": {},
   "outputs": [
    {
     "data": {
      "image/png": "[encoded data removed]",
      "text/plain": [
       "<matplotlib.figure.Figure at 0x28d51993e48>"
      ]
     },
     "metadata": {},
     "output_type": "display_data"
    }
   ],
   "source": [
    "twelve_months_prcp.plot(figsize = (10,7), rot = 45, use_index = True, legend=False)\n",
    "plt.ylabel('Precipation')\n",
    "plt.xlabel('Date')\n",
    "plt.title(\"Precipition in Hawaii from %s to %s\" % (twelve_months_prcp.index.min(),twelve_months_prcp.index.max()))\n",
    "plt.show()"
   ]
  },
  {
   "cell_type": "code",
   "execution_count": 11,
   "metadata": {},
   "outputs": [
    {
     "data": {
      "text/plain": [
       "{'_sa_instance_state': <sqlalchemy.orm.state.InstanceState at 0x28d51b7a710>,\n",
       " 'elevation': 3.0,\n",
       " 'id': 1,\n",
       " 'latitude': 21.2716,\n",
       " 'longitude': -157.8168,\n",
       " 'name': 'WAIKIKI 717.2, HI US',\n",
       " 'station': 'USC00519397'}"
      ]
     },
     "execution_count": 11,
     "metadata": {},
     "output_type": "execute_result"
    }
   ],
   "source": [
    "#inspect station data\n",
    "station_data = session.query(Stations).first()\n",
    "station_data.__dict__"
   ]
  },
  {
   "cell_type": "code",
   "execution_count": 12,
   "metadata": {},
   "outputs": [],
   "source": [
    "#get station count, has been checked with measurement station count\n",
    "from sqlalchemy import func\n",
    "num_stations = session.query(Stations.station).group_by(Stations.station).count()"
   ]
  },
  {
   "cell_type": "code",
   "execution_count": 13,
   "metadata": {},
   "outputs": [
    {
     "data": {
      "text/plain": [
       "9"
      ]
     },
     "execution_count": 13,
     "metadata": {},
     "output_type": "execute_result"
    }
   ],
   "source": [
    "num_stations"
   ]
  },
  {
   "cell_type": "code",
   "execution_count": 14,
   "metadata": {},
   "outputs": [],
   "source": [
    "#query tables to get count of daily report, all temp data is complete for each record, so the count\n",
    "#reflects a count of a station giving temp data, prcp data may or may not have been reported on that date\n",
    "activity = session.query(Stations.station, Stations.name, Measurements.station, func.count(Measurements.tobs)).filter(Stations.station == Measurements.station).group_by(Measurements.station).order_by(func.count(Measurements.tobs).desc()).all()"
   ]
  },
  {
   "cell_type": "code",
   "execution_count": 15,
   "metadata": {},
   "outputs": [
    {
     "data": {
      "text/plain": [
       "[('USC00519281', 'WAIHEE 837.5, HI US', 'USC00519281', 11088),\n",
       " ('USC00513117', 'KANEOHE 838.1, HI US', 'USC00513117', 10784),\n",
       " ('USC00519397', 'WAIKIKI 717.2, HI US', 'USC00519397', 10740),\n",
       " ('USC00519523', 'WAIMANALO EXPERIMENTAL FARM, HI US', 'USC00519523', 10288),\n",
       " ('USC00516128', 'MANOA LYON ARBO 785.2, HI US', 'USC00516128', 9936),\n",
       " ('USC00514830',\n",
       "  'KUALOA RANCH HEADQUARTERS 886.9, HI US',\n",
       "  'USC00514830',\n",
       "  7748),\n",
       " ('USC00511918', 'HONOLULU OBSERVATORY 702.2, HI US', 'USC00511918', 7728),\n",
       " ('USC00517948', 'PEARL CITY, HI US', 'USC00517948', 2732),\n",
       " ('USC00518838', 'UPPER WAHIAWA 874.3, HI US', 'USC00518838', 1368)]"
      ]
     },
     "execution_count": 15,
     "metadata": {},
     "output_type": "execute_result"
    }
   ],
   "source": [
    "activity"
   ]
  },
  {
   "cell_type": "code",
   "execution_count": 16,
   "metadata": {},
   "outputs": [
    {
     "data": {
      "text/plain": [
       "('USC00519281', 'WAIHEE 837.5, HI US')"
      ]
     },
     "execution_count": 16,
     "metadata": {},
     "output_type": "execute_result"
    }
   ],
   "source": [
    "#most active station\n",
    "max_activity = activity[0][0:2]\n",
    "max_activity"
   ]
  },
  {
   "cell_type": "code",
   "execution_count": 17,
   "metadata": {},
   "outputs": [],
   "source": [
    "# the number of reports from the most active station\n",
    "temps_maxact = session.query(Measurements.station, Measurements.tobs).filter(Measurements.station == max_activity[0], Measurements.date > year_before).all()"
   ]
  },
  {
   "cell_type": "code",
   "execution_count": 18,
   "metadata": {},
   "outputs": [
    {
     "data": {
      "text/plain": [
       "1404"
      ]
     },
     "execution_count": 18,
     "metadata": {},
     "output_type": "execute_result"
    }
   ],
   "source": [
    "len(temps_maxact)"
   ]
  },
  {
   "cell_type": "code",
   "execution_count": 19,
   "metadata": {},
   "outputs": [
    {
     "data": {
      "image/png": "[encoded data removed]",
      "text/plain": [
       "<matplotlib.figure.Figure at 0x28d51993a20>"
      ]
     },
     "metadata": {},
     "output_type": "display_data"
    }
   ],
   "source": [
    "#list created from temperature data query from the most active station\n",
    "temps = [x[1] for x in temps_maxact]\n",
    "plt.hist(temps, bins=12)\n",
    "plt.xlabel(\"Temperature (F)\")\n",
    "plt.ylabel(\"Frequency\")\n",
    "plt.title(\"Temperature Frequency at %s\" % (max_activity[1]))\n",
    "plt.show()"
   ]
  },
  {
   "cell_type": "code",
   "execution_count": 20,
   "metadata": {},
   "outputs": [],
   "source": [
    "def calc_temps(start_date, end_date):\n",
    "    #create dates 1 year prior\n",
    "    dates = [start_date, end_date]\n",
    "    new_dates = []\n",
    "    for date in dates:\n",
    "        date_list = date.split(\"-\")\n",
    "        date_list[0] = str(int(date_list[0]) - 1)\n",
    "        new_date = \"-\".join(date_list)\n",
    "        new_dates.append(new_date)\n",
    "    print(new_dates) \n",
    "    \n",
    "    #query database for temps from those dates\n",
    "    temp_values = session.query(Measurements.tobs).filter(Measurements.date >= new_dates[0], Measurements.date <= new_dates[1]).all()\n",
    "    temp_values_list = [x for (x,) in temp_values]\n",
    "    avg_temp = np.mean(temp_values_list)\n",
    "    max_temp = max(temp_values_list)\n",
    "    min_temp = min(temp_values_list)\n",
    "    \n",
    "    # create bar graph\n",
    "    plt.figure(figsize=(2,5))\n",
    "    plt.title(\"Trip Average Temp\")\n",
    "    plt.ylabel(\"Temperature (F)\")\n",
    "    plt.bar(1, avg_temp, yerr = (max_temp - min_temp), tick_label = \"\")\n",
    "    plt.show()"
   ]
  },
  {
   "cell_type": "code",
   "execution_count": 21,
   "metadata": {},
   "outputs": [
    {
     "name": "stdout",
     "output_type": "stream",
     "text": [
      "['2017-08-01', '2017-08-14']\n"
     ]
    },
    {
     "data": {
      "image/png": "[encoded data removed]",
      "text/plain": [
       "<matplotlib.figure.Figure at 0x28d51c1f2b0>"
      ]
     },
     "metadata": {},
     "output_type": "display_data"
    }
   ],
   "source": [
    "calc_temps('2018-08-01', '2018-08-14')"
   ]
  },
  {
   "cell_type": "markdown",
   "metadata": {},
   "source": [
    "# Daily Normal"
   ]
  },
  {
   "cell_type": "code",
   "execution_count": 22,
   "metadata": {},
   "outputs": [
    {
     "data": {
      "text/html": [
       "<div>\n",
       "<style scoped>\n",
       "    .dataframe tbody tr th:only-of-type {\n",
       "        vertical-align: middle;\n",
       "    }\n",
       "\n",
       "    .dataframe tbody tr th {\n",
       "        vertical-align: top;\n",
       "    }\n",
       "\n",
       "    .dataframe thead th {\n",
       "        text-align: right;\n",
       "    }\n",
       "</style>\n",
       "<table border=\"1\" class=\"dataframe\">\n",
       "  <thead>\n",
       "    <tr style=\"text-align: right;\">\n",
       "      <th></th>\n",
       "      <th>Average Temp</th>\n",
       "      <th>Max Temp</th>\n",
       "      <th>Min Temp</th>\n",
       "    </tr>\n",
       "    <tr>\n",
       "      <th>Date</th>\n",
       "      <th></th>\n",
       "      <th></th>\n",
       "      <th></th>\n",
       "    </tr>\n",
       "  </thead>\n",
       "  <tbody>\n",
       "    <tr>\n",
       "      <th>08-01</th>\n",
       "      <td>75.60</td>\n",
       "      <td>83.0</td>\n",
       "      <td>67.0</td>\n",
       "    </tr>\n",
       "    <tr>\n",
       "      <th>08-02</th>\n",
       "      <td>75.74</td>\n",
       "      <td>84.0</td>\n",
       "      <td>68.0</td>\n",
       "    </tr>\n",
       "    <tr>\n",
       "      <th>08-03</th>\n",
       "      <td>76.37</td>\n",
       "      <td>83.0</td>\n",
       "      <td>70.0</td>\n",
       "    </tr>\n",
       "    <tr>\n",
       "      <th>08-04</th>\n",
       "      <td>76.62</td>\n",
       "      <td>84.0</td>\n",
       "      <td>69.0</td>\n",
       "    </tr>\n",
       "    <tr>\n",
       "      <th>08-05</th>\n",
       "      <td>76.06</td>\n",
       "      <td>82.0</td>\n",
       "      <td>69.0</td>\n",
       "    </tr>\n",
       "    <tr>\n",
       "      <th>08-06</th>\n",
       "      <td>75.98</td>\n",
       "      <td>83.0</td>\n",
       "      <td>67.0</td>\n",
       "    </tr>\n",
       "    <tr>\n",
       "      <th>08-07</th>\n",
       "      <td>77.12</td>\n",
       "      <td>83.0</td>\n",
       "      <td>71.0</td>\n",
       "    </tr>\n",
       "    <tr>\n",
       "      <th>08-08</th>\n",
       "      <td>76.35</td>\n",
       "      <td>83.0</td>\n",
       "      <td>68.0</td>\n",
       "    </tr>\n",
       "    <tr>\n",
       "      <th>08-09</th>\n",
       "      <td>75.96</td>\n",
       "      <td>81.0</td>\n",
       "      <td>69.0</td>\n",
       "    </tr>\n",
       "    <tr>\n",
       "      <th>08-10</th>\n",
       "      <td>76.38</td>\n",
       "      <td>83.0</td>\n",
       "      <td>65.0</td>\n",
       "    </tr>\n",
       "    <tr>\n",
       "      <th>08-11</th>\n",
       "      <td>75.74</td>\n",
       "      <td>82.0</td>\n",
       "      <td>67.0</td>\n",
       "    </tr>\n",
       "    <tr>\n",
       "      <th>08-12</th>\n",
       "      <td>76.46</td>\n",
       "      <td>83.0</td>\n",
       "      <td>67.0</td>\n",
       "    </tr>\n",
       "    <tr>\n",
       "      <th>08-13</th>\n",
       "      <td>76.86</td>\n",
       "      <td>84.0</td>\n",
       "      <td>71.0</td>\n",
       "    </tr>\n",
       "    <tr>\n",
       "      <th>08-14</th>\n",
       "      <td>76.65</td>\n",
       "      <td>82.0</td>\n",
       "      <td>71.0</td>\n",
       "    </tr>\n",
       "  </tbody>\n",
       "</table>\n",
       "</div>"
      ],
      "text/plain": [
       "       Average Temp  Max Temp  Min Temp\n",
       "Date                                   \n",
       "08-01         75.60      83.0      67.0\n",
       "08-02         75.74      84.0      68.0\n",
       "08-03         76.37      83.0      70.0\n",
       "08-04         76.62      84.0      69.0\n",
       "08-05         76.06      82.0      69.0\n",
       "08-06         75.98      83.0      67.0\n",
       "08-07         77.12      83.0      71.0\n",
       "08-08         76.35      83.0      68.0\n",
       "08-09         75.96      81.0      69.0\n",
       "08-10         76.38      83.0      65.0\n",
       "08-11         75.74      82.0      67.0\n",
       "08-12         76.46      83.0      67.0\n",
       "08-13         76.86      84.0      71.0\n",
       "08-14         76.65      82.0      71.0"
      ]
     },
     "execution_count": 22,
     "metadata": {},
     "output_type": "execute_result"
    }
   ],
   "source": [
    "#query to return list of temps for each date\n",
    "def daily_normals(chosen_date):\n",
    "    temps = session.query(Measurements.tobs).filter(Measurements.date.like('%'+chosen_date)).all()\n",
    "    obs = [x for (x), in temps]\n",
    "    return obs\n",
    "    \n",
    "start_date = '08-23'\n",
    "end_date = '09-04'\n",
    "\n",
    "#function to generate list of dates given any start and end date\n",
    "def create_date_list(start_date, end_date):\n",
    "    start_month = start_date.split(\"-\")[0]\n",
    "    end_month = end_date.split(\"-\")[0]\n",
    "    \n",
    "    start_day = int(start_date.split(\"-\")[1])\n",
    "    end_day = int(end_date.split(\"-\")[1])\n",
    "    \n",
    "    if start_month == end_month:\n",
    "        diff = end_day - start_day\n",
    "        days = [start_day + x for x in range(0,diff + 1) ]\n",
    "    \n",
    "    else:\n",
    "        diff1 = 31 - start_day\n",
    "        days1 = [start_day + x for x in range(0,diff1 + 1)]\n",
    "        days2 = [x for x in range(1, end_day + 1)]\n",
    "        days = days1 + days2\n",
    "        \n",
    "    days_str = [('%s-%s' % (start_month, str(x))) if len(str(x)) == 2 else ('%s-0%s' % (end_month, str(x))) for x in days]\n",
    "    return days_str\n",
    "\n",
    "#uses functions above to return dictionary of normals, skips dates for which there is no data (false dates)\n",
    "def query_results(start, end):\n",
    "    dates = create_date_list(start, end)\n",
    "    master_dict = {\"Date\": [], \"Max Temp\": [], \"Min Temp\": [], \"Average Temp\": []}\n",
    "    for date in dates:\n",
    "        data_list = []\n",
    "        observations = daily_normals(date)\n",
    "        if observations != []:\n",
    "            for temp in observations:\n",
    "                data_list.append(temp)\n",
    "            master_dict['Date'].append(date)\n",
    "            master_dict['Max Temp'].append(max(data_list))\n",
    "            master_dict['Min Temp'].append(min(data_list))\n",
    "            master_dict['Average Temp'].append(round(np.mean(data_list),2))\n",
    "            master_dict\n",
    "    return(master_dict)\n",
    "    \n",
    "normals_df = pd.DataFrame(query_results('08-01', '08-14')).set_index('Date')\n",
    "normals_df"
   ]
  },
  {
   "cell_type": "code",
   "execution_count": 23,
   "metadata": {},
   "outputs": [
    {
     "data": {
      "image/png": "[encoded data removed]",
      "text/plain": [
       "<matplotlib.figure.Figure at 0x28d51c9c630>"
      ]
     },
     "metadata": {},
     "output_type": "display_data"
    }
   ],
   "source": [
    "normals_df = normals_df[['Max Temp', 'Average Temp', 'Min Temp']]\n",
    "\n",
    "normals_df.plot(kind = 'area', stacked = False, alpha = .75, rot = 45, color = ['teal', 'navajowhite', 'aqua'], figsize = (10,5), linestyle = 'solid')\n",
    "plt.xlabel('Date')\n",
    "plt.ylabel('Temperature (F)')\n",
    "plt.legend(frameon = True)\n",
    "plt.show()"
   ]
  },
  {
   "cell_type": "code",
   "execution_count": null,
   "metadata": {},
   "outputs": [],
   "source": []
  }
 ],
 "metadata": {
  "kernelspec": {
   "display_name": "Python [myenvironment}",
   "language": "python",
   "name": "pythondata"
  },
  "language_info": {
   "codemirror_mode": {
    "name": "ipython",
    "version": 3
   },
   "file_extension": ".py",
   "mimetype": "text/x-python",
   "name": "python",
   "nbconvert_exporter": "python",
   "pygments_lexer": "ipython3",
   "version": "3.6.4"
  }
 },
 "nbformat": 4,
 "nbformat_minor": 2
}
